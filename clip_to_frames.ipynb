{
  "cells": [
    {
      "cell_type": "code",
      "execution_count": 21,
      "id": "37b8477c",
      "metadata": {},
      "outputs": [],
      "source": [
        "# ============================================\n",
        "# ProgettoDL_FootballSegmentation — Video → Frames\n",
        "# Notebook dedicato ESCLUSIVAMENTE alla frammentazione video\n",
        "# Pipeline: (1) Setup → (2) Percorsi → (3) Selezione video → (4) Estrazione frame\n",
        "# ============================================\n",
        "\n",
        "# ---------- (1) Setup e import librerie ----------\n",
        "from pathlib import Path\n",
        "import sys\n",
        "import cv2\n",
        "import re\n",
        "from tkinter import Tk, filedialog\n",
        "from utils.postprocessing import save_image   # serve solo per salvare i frame\n",
        "\n",
        "try:\n",
        "    from tqdm import tqdm\n",
        "except ImportError:\n",
        "    tqdm = lambda x, **k: x  # no-op se tqdm non disponibile\n",
        "\n",
        "from IPython.display import display, Markdown"
      ]
    },
    {
      "cell_type": "code",
      "execution_count": 22,
      "id": "9c733b52",
      "metadata": {},
      "outputs": [],
      "source": [
        "# ---------- (2) Definizione percorsi ----------\n",
        "BASE_DIR = Path().resolve()                   # cartella dove si trova il notebook\n",
        "DATA_INPUTS_DIR = BASE_DIR / \"data_inputs\"    # data_inputs allo stesso livello del notebook\n",
        "DATA_INPUTS_DIR.mkdir(parents=True, exist_ok=True)\n",
        "\n",
        "# Consenti l'import di utils/\n",
        "sys.path.append(str(BASE_DIR.parent))"
      ]
    },
    {
      "cell_type": "code",
      "execution_count": 23,
      "id": "c9d0cf00",
      "metadata": {},
      "outputs": [],
      "source": [
        "# ---------- (3) Selezione video da frammentare con finestra di dialogo ----------\n",
        "Tk().withdraw()  # nasconde la finestra principale Tkinter\n",
        "video_path_str = filedialog.askopenfilename(\n",
        "    title=\"Seleziona il video\",\n",
        "    filetypes=[(\"Video files\", \"*.mp4 *.mov *.mkv *.avi\"), (\"All files\", \"*.*\")]\n",
        ")\n",
        "if not video_path_str:\n",
        "    raise RuntimeError(\"Nessun file selezionato.\")\n",
        "\n",
        "video_path = Path(video_path_str)\n",
        "\n",
        "# ricava clip_id dal nome del file (es. clip01.mp4 -> '01')\n",
        "m = re.search(r\"clip(\\d+)\", video_path.stem, re.IGNORECASE)\n",
        "clip_id = m.group(1) if m else \"00\"\n",
        "\n",
        "# cartella dei frame estratti\n",
        "frames_dir = DATA_INPUTS_DIR / f\"extracted_frames_clip{clip_id}\"\n",
        "frames_dir.mkdir(parents=True, exist_ok=True)"
      ]
    },
    {
      "cell_type": "code",
      "execution_count": 24,
      "id": "4c3b5051",
      "metadata": {},
      "outputs": [
        {
          "data": {
            "text/markdown": [
              "**Frame estratti (ultimi 10):**  \n",
              "frame97_clip06.png<br>frame98_clip06.png<br>frame99_clip06.png<br>frame100_clip06.png<br>frame101_clip06.png<br>frame102_clip06.png<br>frame103_clip06.png<br>frame104_clip06.png<br>frame105_clip06.png<br>frame106_clip06.png<br><br>Totale: **106**"
            ],
            "text/plain": [
              "<IPython.core.display.Markdown object>"
            ]
          },
          "metadata": {},
          "output_type": "display_data"
        },
        {
          "name": "stderr",
          "output_type": "stream",
          "text": [
            "Estrazione frame: 100%|██████████| 106/106 [00:53<00:00,  1.97frame/s]\n"
          ]
        }
      ],
      "source": [
        "# ---------- (4) Estrazione frame (barra + lista dinamica coerenti) ----------\n",
        "cap = cv2.VideoCapture(str(video_path))\n",
        "if not cap.isOpened():\n",
        "    raise RuntimeError(f\"Impossibile aprire il video: {video_path}\")\n",
        "\n",
        "frame_count = int(cap.get(cv2.CAP_PROP_FRAME_COUNT)) if cap.get(cv2.CAP_PROP_FRAME_COUNT) > 0 else None\n",
        "\n",
        "written_names = []  # per la lista dinamica dei frame estratti\n",
        "extract_handle = display(Markdown(\"_Inizio estrazione frame…_\"), display_id=True)\n",
        "\n",
        "idx = 1\n",
        "for _ in tqdm(range(frame_count) if frame_count else iter(int, 1), desc=\"Estrazione frame\", unit=\"frame\", total=frame_count if frame_count else None):\n",
        "    ret, frame_bgr = cap.read()\n",
        "    if not ret:\n",
        "        break\n",
        "\n",
        "    frame_rgb = cv2.cvtColor(frame_bgr, cv2.COLOR_BGR2RGB)\n",
        "    name = f\"frame{idx:02d}_clip{clip_id}.png\"\n",
        "    out_path = frames_dir / name\n",
        "    save_image(frame_rgb, str(out_path))\n",
        "    written_names.append(name)\n",
        "\n",
        "    # Aggiorna lista dinamica (ultimi 10)\n",
        "    last_w = written_names[-10:]\n",
        "    extract_handle.update(Markdown(\n",
        "        \"**Frame estratti (ultimi 10):**  \\n\" + \"<br>\".join(last_w) + f\"<br><br>Totale: **{len(written_names)}**\"\n",
        "    ))\n",
        "\n",
        "    idx += 1\n",
        "\n",
        "cap.release()\n",
        "tot = idx - 1\n",
        "if tot == 0:\n",
        "    raise RuntimeError(\"Nessun frame estratto dal video.\")"
      ]
    },
    {
      "cell_type": "code",
      "execution_count": 25,
      "id": "d6ba5427",
      "metadata": {},
      "outputs": [
        {
          "name": "stdout",
          "output_type": "stream",
          "text": [
            "✅ Frammentazione completata. \n",
            "- Video: C:\\Users\\ricks\\Desktop\\ProgettoDL\\Football_match_segmentation\\data_inputs\\clip06.mp4\n",
            "- Frame salvati in: C:\\Users\\ricks\\Desktop\\ProgettoDL\\Football_match_segmentation\\data_inputs\\extracted_frames_clip06\n",
            "- Totale frames estratti da clip06: 106\n"
          ]
        }
      ],
      "source": [
        "# ---------- (5) Report ----------\n",
        "print(f\"✅ Frammentazione completata. \\n- Video: {video_path}\\n- Frame salvati in: {frames_dir}\\n- Totale frames estratti da clip{clip_id}: {idx-1}\")\n",
        "\n",
        "# ============================================\n",
        "# Fine notebook frammentazione\n",
        "# ============================================"
      ]
    }
  ],
  "metadata": {
    "kernelspec": {
      "display_name": "base",
      "language": "python",
      "name": "python3"
    },
    "language_info": {
      "codemirror_mode": {
        "name": "ipython",
        "version": 3
      },
      "file_extension": ".py",
      "mimetype": "text/x-python",
      "name": "python",
      "nbconvert_exporter": "python",
      "pygments_lexer": "ipython3",
      "version": "3.11.10"
    }
  },
  "nbformat": 4,
  "nbformat_minor": 5
}
